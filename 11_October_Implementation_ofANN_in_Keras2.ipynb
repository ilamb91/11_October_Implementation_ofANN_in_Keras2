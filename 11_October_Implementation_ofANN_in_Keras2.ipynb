{
 "cells": [
  {
   "cell_type": "markdown",
   "id": "2df432ed-172e-474a-afaa-e3107b819267",
   "metadata": {},
   "source": [
    "# Q1. Install and load the latest versions of TensorFlow and Keras. Print their versions."
   ]
  },
  {
   "cell_type": "code",
   "execution_count": 2,
   "id": "3250f22b-86d4-496a-9bba-9bdf5a249f63",
   "metadata": {},
   "outputs": [
    {
     "name": "stdout",
     "output_type": "stream",
     "text": [
      "Requirement already satisfied: tensorflow in /opt/conda/lib/python3.10/site-packages (2.14.0)\n",
      "Requirement already satisfied: gast!=0.5.0,!=0.5.1,!=0.5.2,>=0.2.1 in /opt/conda/lib/python3.10/site-packages (from tensorflow) (0.5.4)\n",
      "Requirement already satisfied: astunparse>=1.6.0 in /opt/conda/lib/python3.10/site-packages (from tensorflow) (1.6.3)\n",
      "Requirement already satisfied: protobuf!=4.21.0,!=4.21.1,!=4.21.2,!=4.21.3,!=4.21.4,!=4.21.5,<5.0.0dev,>=3.20.3 in /opt/conda/lib/python3.10/site-packages (from tensorflow) (4.21.11)\n",
      "Requirement already satisfied: numpy>=1.23.5 in /opt/conda/lib/python3.10/site-packages (from tensorflow) (1.23.5)\n",
      "Requirement already satisfied: google-pasta>=0.1.1 in /opt/conda/lib/python3.10/site-packages (from tensorflow) (0.2.0)\n",
      "Requirement already satisfied: packaging in /opt/conda/lib/python3.10/site-packages (from tensorflow) (22.0)\n",
      "Requirement already satisfied: flatbuffers>=23.5.26 in /opt/conda/lib/python3.10/site-packages (from tensorflow) (23.5.26)\n",
      "Requirement already satisfied: tensorboard<2.15,>=2.14 in /opt/conda/lib/python3.10/site-packages (from tensorflow) (2.14.1)\n",
      "Requirement already satisfied: setuptools in /opt/conda/lib/python3.10/site-packages (from tensorflow) (65.5.1)\n",
      "Requirement already satisfied: keras<2.15,>=2.14.0 in /opt/conda/lib/python3.10/site-packages (from tensorflow) (2.14.0)\n",
      "Requirement already satisfied: absl-py>=1.0.0 in /opt/conda/lib/python3.10/site-packages (from tensorflow) (2.0.0)\n",
      "Requirement already satisfied: libclang>=13.0.0 in /opt/conda/lib/python3.10/site-packages (from tensorflow) (16.0.6)\n",
      "Requirement already satisfied: tensorflow-io-gcs-filesystem>=0.23.1 in /opt/conda/lib/python3.10/site-packages (from tensorflow) (0.34.0)\n",
      "Requirement already satisfied: six>=1.12.0 in /opt/conda/lib/python3.10/site-packages (from tensorflow) (1.16.0)\n",
      "Requirement already satisfied: typing-extensions>=3.6.6 in /opt/conda/lib/python3.10/site-packages (from tensorflow) (4.4.0)\n",
      "Requirement already satisfied: opt-einsum>=2.3.2 in /opt/conda/lib/python3.10/site-packages (from tensorflow) (3.3.0)\n",
      "Requirement already satisfied: wrapt<1.15,>=1.11.0 in /opt/conda/lib/python3.10/site-packages (from tensorflow) (1.14.1)\n",
      "Requirement already satisfied: ml-dtypes==0.2.0 in /opt/conda/lib/python3.10/site-packages (from tensorflow) (0.2.0)\n",
      "Requirement already satisfied: tensorflow-estimator<2.15,>=2.14.0 in /opt/conda/lib/python3.10/site-packages (from tensorflow) (2.14.0)\n",
      "Requirement already satisfied: grpcio<2.0,>=1.24.3 in /opt/conda/lib/python3.10/site-packages (from tensorflow) (1.59.0)\n",
      "Requirement already satisfied: termcolor>=1.1.0 in /opt/conda/lib/python3.10/site-packages (from tensorflow) (2.3.0)\n",
      "Requirement already satisfied: h5py>=2.9.0 in /opt/conda/lib/python3.10/site-packages (from tensorflow) (3.7.0)\n",
      "Requirement already satisfied: wheel<1.0,>=0.23.0 in /opt/conda/lib/python3.10/site-packages (from astunparse>=1.6.0->tensorflow) (0.38.4)\n",
      "Requirement already satisfied: google-auth-oauthlib<1.1,>=0.5 in /opt/conda/lib/python3.10/site-packages (from tensorboard<2.15,>=2.14->tensorflow) (1.0.0)\n",
      "Requirement already satisfied: werkzeug>=1.0.1 in /opt/conda/lib/python3.10/site-packages (from tensorboard<2.15,>=2.14->tensorflow) (3.0.0)\n",
      "Requirement already satisfied: requests<3,>=2.21.0 in /opt/conda/lib/python3.10/site-packages (from tensorboard<2.15,>=2.14->tensorflow) (2.28.1)\n",
      "Requirement already satisfied: google-auth<3,>=1.6.3 in /opt/conda/lib/python3.10/site-packages (from tensorboard<2.15,>=2.14->tensorflow) (2.23.3)\n",
      "Requirement already satisfied: markdown>=2.6.8 in /opt/conda/lib/python3.10/site-packages (from tensorboard<2.15,>=2.14->tensorflow) (3.5)\n",
      "Requirement already satisfied: tensorboard-data-server<0.8.0,>=0.7.0 in /opt/conda/lib/python3.10/site-packages (from tensorboard<2.15,>=2.14->tensorflow) (0.7.1)\n",
      "Requirement already satisfied: pyasn1-modules>=0.2.1 in /opt/conda/lib/python3.10/site-packages (from google-auth<3,>=1.6.3->tensorboard<2.15,>=2.14->tensorflow) (0.3.0)\n",
      "Requirement already satisfied: cachetools<6.0,>=2.0.0 in /opt/conda/lib/python3.10/site-packages (from google-auth<3,>=1.6.3->tensorboard<2.15,>=2.14->tensorflow) (5.3.1)\n",
      "Requirement already satisfied: rsa<5,>=3.1.4 in /opt/conda/lib/python3.10/site-packages (from google-auth<3,>=1.6.3->tensorboard<2.15,>=2.14->tensorflow) (4.9)\n",
      "Requirement already satisfied: requests-oauthlib>=0.7.0 in /opt/conda/lib/python3.10/site-packages (from google-auth-oauthlib<1.1,>=0.5->tensorboard<2.15,>=2.14->tensorflow) (1.3.1)\n",
      "Requirement already satisfied: charset-normalizer<3,>=2 in /opt/conda/lib/python3.10/site-packages (from requests<3,>=2.21.0->tensorboard<2.15,>=2.14->tensorflow) (2.1.1)\n",
      "Requirement already satisfied: urllib3<1.27,>=1.21.1 in /opt/conda/lib/python3.10/site-packages (from requests<3,>=2.21.0->tensorboard<2.15,>=2.14->tensorflow) (1.26.13)\n",
      "Requirement already satisfied: certifi>=2017.4.17 in /opt/conda/lib/python3.10/site-packages (from requests<3,>=2.21.0->tensorboard<2.15,>=2.14->tensorflow) (2022.12.7)\n",
      "Requirement already satisfied: idna<4,>=2.5 in /opt/conda/lib/python3.10/site-packages (from requests<3,>=2.21.0->tensorboard<2.15,>=2.14->tensorflow) (3.4)\n",
      "Requirement already satisfied: MarkupSafe>=2.1.1 in /opt/conda/lib/python3.10/site-packages (from werkzeug>=1.0.1->tensorboard<2.15,>=2.14->tensorflow) (2.1.1)\n",
      "Requirement already satisfied: pyasn1<0.6.0,>=0.4.6 in /opt/conda/lib/python3.10/site-packages (from pyasn1-modules>=0.2.1->google-auth<3,>=1.6.3->tensorboard<2.15,>=2.14->tensorflow) (0.5.0)\n",
      "Requirement already satisfied: oauthlib>=3.0.0 in /opt/conda/lib/python3.10/site-packages (from requests-oauthlib>=0.7.0->google-auth-oauthlib<1.1,>=0.5->tensorboard<2.15,>=2.14->tensorflow) (3.2.2)\n",
      "Requirement already satisfied: keras in /opt/conda/lib/python3.10/site-packages (2.14.0)\n"
     ]
    },
    {
     "name": "stderr",
     "output_type": "stream",
     "text": [
      "2023-10-11 16:38:28.324043: I tensorflow/tsl/cuda/cudart_stub.cc:28] Could not find cuda drivers on your machine, GPU will not be used.\n",
      "2023-10-11 16:38:28.387619: E tensorflow/compiler/xla/stream_executor/cuda/cuda_dnn.cc:9342] Unable to register cuDNN factory: Attempting to register factory for plugin cuDNN when one has already been registered\n",
      "2023-10-11 16:38:28.387684: E tensorflow/compiler/xla/stream_executor/cuda/cuda_fft.cc:609] Unable to register cuFFT factory: Attempting to register factory for plugin cuFFT when one has already been registered\n",
      "2023-10-11 16:38:28.387721: E tensorflow/compiler/xla/stream_executor/cuda/cuda_blas.cc:1518] Unable to register cuBLAS factory: Attempting to register factory for plugin cuBLAS when one has already been registered\n",
      "2023-10-11 16:38:28.397567: I tensorflow/tsl/cuda/cudart_stub.cc:28] Could not find cuda drivers on your machine, GPU will not be used.\n",
      "2023-10-11 16:38:28.398615: I tensorflow/core/platform/cpu_feature_guard.cc:182] This TensorFlow binary is optimized to use available CPU instructions in performance-critical operations.\n",
      "To enable the following instructions: AVX2 FMA, in other operations, rebuild TensorFlow with the appropriate compiler flags.\n",
      "2023-10-11 16:38:29.741381: W tensorflow/compiler/tf2tensorrt/utils/py_utils.cc:38] TF-TRT Warning: Could not find TensorRT\n"
     ]
    },
    {
     "name": "stdout",
     "output_type": "stream",
     "text": [
      "TensorFlow version: 2.14.0\n"
     ]
    },
    {
     "ename": "AttributeError",
     "evalue": "module 'keras.api._v2.keras' has no attribute '__version__'",
     "output_type": "error",
     "traceback": [
      "\u001b[0;31m---------------------------------------------------------------------------\u001b[0m",
      "\u001b[0;31mAttributeError\u001b[0m                            Traceback (most recent call last)",
      "Cell \u001b[0;32mIn[2], line 13\u001b[0m\n\u001b[1;32m     11\u001b[0m \u001b[38;5;66;03m# Print the versions\u001b[39;00m\n\u001b[1;32m     12\u001b[0m \u001b[38;5;28mprint\u001b[39m(\u001b[38;5;124m\"\u001b[39m\u001b[38;5;124mTensorFlow version:\u001b[39m\u001b[38;5;124m\"\u001b[39m, tf\u001b[38;5;241m.\u001b[39m__version__)\n\u001b[0;32m---> 13\u001b[0m \u001b[38;5;28mprint\u001b[39m(\u001b[38;5;124m\"\u001b[39m\u001b[38;5;124mKeras version:\u001b[39m\u001b[38;5;124m\"\u001b[39m, \u001b[43mkeras\u001b[49m\u001b[38;5;241;43m.\u001b[39;49m\u001b[43m__version__\u001b[49m)\n",
      "File \u001b[0;32m/opt/conda/lib/python3.10/site-packages/tensorflow/python/util/lazy_loader.py:67\u001b[0m, in \u001b[0;36mLazyLoader.__getattr__\u001b[0;34m(self, item)\u001b[0m\n\u001b[1;32m     65\u001b[0m \u001b[38;5;28;01mdef\u001b[39;00m \u001b[38;5;21m__getattr__\u001b[39m(\u001b[38;5;28mself\u001b[39m, item):\n\u001b[1;32m     66\u001b[0m   module \u001b[38;5;241m=\u001b[39m \u001b[38;5;28mself\u001b[39m\u001b[38;5;241m.\u001b[39m_load()\n\u001b[0;32m---> 67\u001b[0m   \u001b[38;5;28;01mreturn\u001b[39;00m \u001b[38;5;28;43mgetattr\u001b[39;49m\u001b[43m(\u001b[49m\u001b[43mmodule\u001b[49m\u001b[43m,\u001b[49m\u001b[43m \u001b[49m\u001b[43mitem\u001b[49m\u001b[43m)\u001b[49m\n",
      "\u001b[0;31mAttributeError\u001b[0m: module 'keras.api._v2.keras' has no attribute '__version__'"
     ]
    }
   ],
   "source": [
    "# Install TensorFlow\n",
    "!pip install tensorflow\n",
    "\n",
    "# Install Keras (usually comes with TensorFlow)\n",
    "!pip install keras\n",
    "\n",
    "# Import TensorFlow and Keras\n",
    "import tensorflow as tf\n",
    "from tensorflow import keras\n",
    "\n",
    "# Print the versions\n",
    "print(\"TensorFlow version:\", tf.__version__)\n",
    "print(\"Keras version:\", keras.__version__)\n"
   ]
  },
  {
   "cell_type": "markdown",
   "id": "958a4074-fb5c-4331-94c0-a68f37eae385",
   "metadata": {},
   "source": [
    "# Q2. Load the Wine Quality dataset and explore its dimensions.\n",
    "- Dataset link: https://www.kaggle.com/datasets/nareshbhat/wine-quality-binary-classification"
   ]
  },
  {
   "cell_type": "code",
   "execution_count": 3,
   "id": "f3532087-a84f-41ad-91ab-c04f492b55c3",
   "metadata": {},
   "outputs": [
    {
     "name": "stdout",
     "output_type": "stream",
     "text": [
      "Requirement already satisfied: pandas in /opt/conda/lib/python3.10/site-packages (1.5.2)\n",
      "Requirement already satisfied: numpy in /opt/conda/lib/python3.10/site-packages (1.23.5)\n",
      "Requirement already satisfied: python-dateutil>=2.8.1 in /opt/conda/lib/python3.10/site-packages (from pandas) (2.8.2)\n",
      "Requirement already satisfied: pytz>=2020.1 in /opt/conda/lib/python3.10/site-packages (from pandas) (2022.6)\n",
      "Requirement already satisfied: six>=1.5 in /opt/conda/lib/python3.10/site-packages (from python-dateutil>=2.8.1->pandas) (1.16.0)\n",
      "Note: you may need to restart the kernel to use updated packages.\n"
     ]
    }
   ],
   "source": [
    "pip install pandas numpy"
   ]
  },
  {
   "cell_type": "code",
   "execution_count": 1,
   "id": "13eeec1e-a3be-4cda-a110-51780df8ca38",
   "metadata": {},
   "outputs": [
    {
     "name": "stdout",
     "output_type": "stream",
     "text": [
      "   fixed acidity  volatile acidity  citric acid  residual sugar  chlorides  \\\n",
      "0            7.4              0.70         0.00             1.9      0.076   \n",
      "1            7.8              0.88         0.00             2.6      0.098   \n",
      "2            7.8              0.76         0.04             2.3      0.092   \n",
      "3           11.2              0.28         0.56             1.9      0.075   \n",
      "4            7.4              0.70         0.00             1.9      0.076   \n",
      "\n",
      "   free sulfur dioxide  total sulfur dioxide  density    pH  sulphates  \\\n",
      "0                 11.0                  34.0   0.9978  3.51       0.56   \n",
      "1                 25.0                  67.0   0.9968  3.20       0.68   \n",
      "2                 15.0                  54.0   0.9970  3.26       0.65   \n",
      "3                 17.0                  60.0   0.9980  3.16       0.58   \n",
      "4                 11.0                  34.0   0.9978  3.51       0.56   \n",
      "\n",
      "   alcohol quality  \n",
      "0      9.4     bad  \n",
      "1      9.8     bad  \n",
      "2      9.8     bad  \n",
      "3      9.8    good  \n",
      "4      9.4     bad  \n",
      "       fixed acidity  volatile acidity  citric acid  residual sugar  \\\n",
      "count    1599.000000       1599.000000  1599.000000     1599.000000   \n",
      "mean        8.319637          0.527821     0.270976        2.538806   \n",
      "std         1.741096          0.179060     0.194801        1.409928   \n",
      "min         4.600000          0.120000     0.000000        0.900000   \n",
      "25%         7.100000          0.390000     0.090000        1.900000   \n",
      "50%         7.900000          0.520000     0.260000        2.200000   \n",
      "75%         9.200000          0.640000     0.420000        2.600000   \n",
      "max        15.900000          1.580000     1.000000       15.500000   \n",
      "\n",
      "         chlorides  free sulfur dioxide  total sulfur dioxide      density  \\\n",
      "count  1599.000000          1599.000000           1599.000000  1599.000000   \n",
      "mean      0.087467            15.874922             46.467792     0.996747   \n",
      "std       0.047065            10.460157             32.895324     0.001887   \n",
      "min       0.012000             1.000000              6.000000     0.990070   \n",
      "25%       0.070000             7.000000             22.000000     0.995600   \n",
      "50%       0.079000            14.000000             38.000000     0.996750   \n",
      "75%       0.090000            21.000000             62.000000     0.997835   \n",
      "max       0.611000            72.000000            289.000000     1.003690   \n",
      "\n",
      "                pH    sulphates      alcohol  \n",
      "count  1599.000000  1599.000000  1599.000000  \n",
      "mean      3.311113     0.658149    10.422983  \n",
      "std       0.154386     0.169507     1.065668  \n",
      "min       2.740000     0.330000     8.400000  \n",
      "25%       3.210000     0.550000     9.500000  \n",
      "50%       3.310000     0.620000    10.200000  \n",
      "75%       3.400000     0.730000    11.100000  \n",
      "max       4.010000     2.000000    14.900000  \n"
     ]
    }
   ],
   "source": [
    "import pandas as pd\n",
    "data = pd.read_csv('wine.csv')\n",
    "print(data.head())\n",
    "print(data.describe())\n"
   ]
  },
  {
   "cell_type": "markdown",
   "id": "67fb8c8b-f612-42d8-903f-d02b5fc74d90",
   "metadata": {},
   "source": [
    "# Q3. Check for null values, identify categorical variables, and encode them."
   ]
  },
  {
   "cell_type": "code",
   "execution_count": 2,
   "id": "26de3c9f-863a-4f98-992b-d6816e3bd841",
   "metadata": {},
   "outputs": [
    {
     "name": "stdout",
     "output_type": "stream",
     "text": [
      "Null Values:\n",
      " fixed acidity           0\n",
      "volatile acidity        0\n",
      "citric acid             0\n",
      "residual sugar          0\n",
      "chlorides               0\n",
      "free sulfur dioxide     0\n",
      "total sulfur dioxide    0\n",
      "density                 0\n",
      "pH                      0\n",
      "sulphates               0\n",
      "alcohol                 0\n",
      "quality                 0\n",
      "dtype: int64\n",
      "Categorical Variables:\n",
      " Index(['quality'], dtype='object')\n"
     ]
    }
   ],
   "source": [
    "# Check for null values in the dataset\n",
    "null_values = data.isnull().sum()\n",
    "print(\"Null Values:\\n\", null_values)\n",
    "\n",
    "# Identify categorical variables\n",
    "categorical_columns = data.select_dtypes(include=['object']).columns\n",
    "print(\"Categorical Variables:\\n\", categorical_columns)\n",
    "\n",
    "# Encode categorical variables using one-hot encoding\n",
    "data_encoded = pd.get_dummies(data, columns=categorical_columns)\n"
   ]
  },
  {
   "cell_type": "markdown",
   "id": "6476b44a-231a-4d79-a198-f2a108315045",
   "metadata": {},
   "source": [
    "# Q4. Separate the features and target variables from the dataframe."
   ]
  },
  {
   "cell_type": "code",
   "execution_count": 3,
   "id": "42f26ee3-c19c-4fef-857f-c41ed49d644b",
   "metadata": {},
   "outputs": [],
   "source": [
    "# Assuming 'target_column_name' is the name of the column you want to predict\n",
    "target_column_name = 'alcohol'\n",
    "\n",
    "# Separate features (X) and target (y)\n",
    "X = data_encoded.drop(target_column_name, axis=1)\n",
    "y = data_encoded[target_column_name]\n"
   ]
  },
  {
   "cell_type": "markdown",
   "id": "870a9d80-a3e2-4479-a11b-08bd9c392709",
   "metadata": {},
   "source": [
    "# Q5. Perform a train-test split and divide the data into training, validation, and test datasets."
   ]
  },
  {
   "cell_type": "code",
   "execution_count": 4,
   "id": "d9734102-65d2-4d42-9ba7-85611e25919a",
   "metadata": {},
   "outputs": [
    {
     "name": "stdout",
     "output_type": "stream",
     "text": [
      "Training set: X_train shape = (1119, 12) y_train shape = (1119,)\n",
      "Validation set: X_val shape = (240, 12) y_val shape = (240,)\n",
      "Test set: X_test shape = (240, 12) y_test shape = (240,)\n"
     ]
    }
   ],
   "source": [
    "from sklearn.model_selection import train_test_split\n",
    "\n",
    "# Define the features (X) and target variable (y)\n",
    "X = data_encoded.drop('alcohol', axis=1)\n",
    "y = data_encoded['alcohol']\n",
    "\n",
    "# Split the data into training, validation, and test sets\n",
    "X_train, X_temp, y_train, y_temp = train_test_split(X, y, test_size=0.3, random_state=42)\n",
    "X_val, X_test, y_val, y_test = train_test_split(X_temp, y_temp, test_size=0.5, random_state=42)\n",
    "\n",
    "# Print the dimensions of the resulting sets\n",
    "print(\"Training set: X_train shape =\", X_train.shape, \"y_train shape =\", y_train.shape)\n",
    "print(\"Validation set: X_val shape =\", X_val.shape, \"y_val shape =\", y_val.shape)\n",
    "print(\"Test set: X_test shape =\", X_test.shape, \"y_test shape =\", y_test.shape)\n"
   ]
  },
  {
   "cell_type": "markdown",
   "id": "d26d4027-36be-46df-acfe-8acf95af558a",
   "metadata": {},
   "source": [
    "# Q6. Perform scaling on the dataset."
   ]
  },
  {
   "cell_type": "code",
   "execution_count": 5,
   "id": "fbf307a5-0c69-444b-a4f0-c774767a65e4",
   "metadata": {},
   "outputs": [],
   "source": [
    "from sklearn.preprocessing import StandardScaler\n",
    "\n",
    "# Initialize the StandardScaler\n",
    "scaler = StandardScaler()\n",
    "\n",
    "# Fit and transform the scaler on training data\n",
    "X_train_scaled = scaler.fit_transform(X_train)\n",
    "\n",
    "# Transform validation and test data using the same scaler\n",
    "X_val_scaled = scaler.transform(X_val)\n",
    "X_test_scaled = scaler.transform(X_test)\n"
   ]
  },
  {
   "cell_type": "markdown",
   "id": "30ce936d-c63e-4130-897e-3c258b9e2360",
   "metadata": {},
   "source": [
    "# Q7. Create at least 2 hidden layers and an output layer for the binary categorical variables."
   ]
  },
  {
   "cell_type": "code",
   "execution_count": 6,
   "id": "b9752e9c-cfe4-4515-82a2-a23a896b7a2b",
   "metadata": {},
   "outputs": [
    {
     "name": "stderr",
     "output_type": "stream",
     "text": [
      "2023-10-11 16:39:12.645167: I tensorflow/tsl/cuda/cudart_stub.cc:28] Could not find cuda drivers on your machine, GPU will not be used.\n",
      "2023-10-11 16:39:12.708409: E tensorflow/compiler/xla/stream_executor/cuda/cuda_dnn.cc:9342] Unable to register cuDNN factory: Attempting to register factory for plugin cuDNN when one has already been registered\n",
      "2023-10-11 16:39:12.708475: E tensorflow/compiler/xla/stream_executor/cuda/cuda_fft.cc:609] Unable to register cuFFT factory: Attempting to register factory for plugin cuFFT when one has already been registered\n",
      "2023-10-11 16:39:12.708514: E tensorflow/compiler/xla/stream_executor/cuda/cuda_blas.cc:1518] Unable to register cuBLAS factory: Attempting to register factory for plugin cuBLAS when one has already been registered\n",
      "2023-10-11 16:39:12.718402: I tensorflow/tsl/cuda/cudart_stub.cc:28] Could not find cuda drivers on your machine, GPU will not be used.\n",
      "2023-10-11 16:39:12.718753: I tensorflow/core/platform/cpu_feature_guard.cc:182] This TensorFlow binary is optimized to use available CPU instructions in performance-critical operations.\n",
      "To enable the following instructions: AVX2 FMA, in other operations, rebuild TensorFlow with the appropriate compiler flags.\n",
      "2023-10-11 16:39:13.951833: W tensorflow/compiler/tf2tensorrt/utils/py_utils.cc:38] TF-TRT Warning: Could not find TensorRT\n"
     ]
    },
    {
     "name": "stdout",
     "output_type": "stream",
     "text": [
      "Epoch 1/10\n",
      "35/35 [==============================] - 1s 9ms/step - loss: -9.9792 - accuracy: 0.0000e+00 - val_loss: -22.9852 - val_accuracy: 0.0000e+00\n",
      "Epoch 2/10\n",
      "35/35 [==============================] - 0s 4ms/step - loss: -44.0593 - accuracy: 0.0000e+00 - val_loss: -74.7876 - val_accuracy: 0.0000e+00\n",
      "Epoch 3/10\n",
      "35/35 [==============================] - 0s 4ms/step - loss: -124.2419 - accuracy: 0.0000e+00 - val_loss: -193.4876 - val_accuracy: 0.0000e+00\n",
      "Epoch 4/10\n",
      "35/35 [==============================] - 0s 3ms/step - loss: -293.7032 - accuracy: 0.0000e+00 - val_loss: -428.5538 - val_accuracy: 0.0000e+00\n",
      "Epoch 5/10\n",
      "35/35 [==============================] - 0s 3ms/step - loss: -604.1909 - accuracy: 0.0000e+00 - val_loss: -835.2053 - val_accuracy: 0.0000e+00\n",
      "Epoch 6/10\n",
      "35/35 [==============================] - 0s 3ms/step - loss: -1112.2070 - accuracy: 0.0000e+00 - val_loss: -1469.2802 - val_accuracy: 0.0000e+00\n",
      "Epoch 7/10\n",
      "35/35 [==============================] - 0s 3ms/step - loss: -1878.2648 - accuracy: 0.0000e+00 - val_loss: -2396.4363 - val_accuracy: 0.0000e+00\n",
      "Epoch 8/10\n",
      "35/35 [==============================] - 0s 3ms/step - loss: -2963.5803 - accuracy: 0.0000e+00 - val_loss: -3686.4111 - val_accuracy: 0.0000e+00\n",
      "Epoch 9/10\n",
      "35/35 [==============================] - 0s 3ms/step - loss: -4428.4463 - accuracy: 0.0000e+00 - val_loss: -5373.5522 - val_accuracy: 0.0000e+00\n",
      "Epoch 10/10\n",
      "35/35 [==============================] - 0s 3ms/step - loss: -6317.2397 - accuracy: 0.0000e+00 - val_loss: -7524.5698 - val_accuracy: 0.0000e+00\n"
     ]
    },
    {
     "data": {
      "text/plain": [
       "<keras.src.callbacks.History at 0x7f20e803f340>"
      ]
     },
     "execution_count": 6,
     "metadata": {},
     "output_type": "execute_result"
    }
   ],
   "source": [
    "from tensorflow import keras\n",
    "\n",
    "# Create a Sequential model\n",
    "model = keras.Sequential()\n",
    "\n",
    "# Add the input layer (input_shape should match the number of features)\n",
    "model.add(keras.layers.InputLayer(input_shape=(X_train_scaled.shape[1],)))\n",
    "\n",
    "# Add at least 2 hidden layers with a specified number of neurons and activation functions\n",
    "model.add(keras.layers.Dense(units=64, activation='relu'))\n",
    "model.add(keras.layers.Dense(units=32, activation='relu'))\n",
    "\n",
    "# Add the output layer with 1 neuron and a sigmoid activation function for binary classification\n",
    "model.add(keras.layers.Dense(units=1, activation='sigmoid'))\n",
    "\n",
    "# Compile the model with an appropriate optimizer, loss function, and metrics\n",
    "model.compile(optimizer='adam', loss='binary_crossentropy', metrics=['accuracy'])\n",
    "\n",
    "# Fit the model to your training data\n",
    "model.fit(X_train_scaled, y_train, epochs=10, batch_size=32, validation_data=(X_val_scaled, y_val))\n"
   ]
  },
  {
   "cell_type": "markdown",
   "id": "101242fd-0c15-4e48-89c0-fa1cd8123353",
   "metadata": {},
   "source": [
    "# Q8. Create a Sequential model and add all the layers to it."
   ]
  },
  {
   "cell_type": "code",
   "execution_count": 7,
   "id": "1cd73940-5065-4200-8189-a51ab264f337",
   "metadata": {},
   "outputs": [
    {
     "name": "stdout",
     "output_type": "stream",
     "text": [
      "Model: \"sequential\"\n",
      "_________________________________________________________________\n",
      " Layer (type)                Output Shape              Param #   \n",
      "=================================================================\n",
      " dense (Dense)               (None, 64)                832       \n",
      "                                                                 \n",
      " dense_1 (Dense)             (None, 32)                2080      \n",
      "                                                                 \n",
      " dense_2 (Dense)             (None, 1)                 33        \n",
      "                                                                 \n",
      "=================================================================\n",
      "Total params: 2945 (11.50 KB)\n",
      "Trainable params: 2945 (11.50 KB)\n",
      "Non-trainable params: 0 (0.00 Byte)\n",
      "_________________________________________________________________\n"
     ]
    }
   ],
   "source": [
    "# Compile the model with an appropriate optimizer, loss function, and metrics\n",
    "model.compile(optimizer='adam', loss='binary_crossentropy', metrics=['accuracy'])\n",
    "\n",
    "# Display a summary of the model's architecture\n",
    "model.summary()\n"
   ]
  },
  {
   "cell_type": "markdown",
   "id": "7968e904-65c6-48cf-8351-ca9aac9d7cee",
   "metadata": {},
   "source": [
    "# Q9. Print the summary of the model architecture."
   ]
  },
  {
   "cell_type": "code",
   "execution_count": 8,
   "id": "5b933af2-15a0-4f5a-800c-8cc922552edc",
   "metadata": {},
   "outputs": [
    {
     "name": "stdout",
     "output_type": "stream",
     "text": [
      "Model: \"sequential\"\n",
      "_________________________________________________________________\n",
      " Layer (type)                Output Shape              Param #   \n",
      "=================================================================\n",
      " dense (Dense)               (None, 64)                832       \n",
      "                                                                 \n",
      " dense_1 (Dense)             (None, 32)                2080      \n",
      "                                                                 \n",
      " dense_2 (Dense)             (None, 1)                 33        \n",
      "                                                                 \n",
      "=================================================================\n",
      "Total params: 2945 (11.50 KB)\n",
      "Trainable params: 2945 (11.50 KB)\n",
      "Non-trainable params: 0 (0.00 Byte)\n",
      "_________________________________________________________________\n"
     ]
    }
   ],
   "source": [
    "model.summary()"
   ]
  },
  {
   "cell_type": "markdown",
   "id": "8af3ed15-ec70-4151-b95d-44b4b183c50d",
   "metadata": {},
   "source": [
    "# Q10. Set the loss function(‘binary_crossentropy’), optimizer, and include the accuracy metric in the model."
   ]
  },
  {
   "cell_type": "code",
   "execution_count": 9,
   "id": "5e3878ae-b642-4414-a20b-e02a66e8c44d",
   "metadata": {},
   "outputs": [
    {
     "ename": "NameError",
     "evalue": "name 'batch_size' is not defined",
     "output_type": "error",
     "traceback": [
      "\u001b[0;31m---------------------------------------------------------------------------\u001b[0m",
      "\u001b[0;31mNameError\u001b[0m                                 Traceback (most recent call last)",
      "Cell \u001b[0;32mIn[9], line 1\u001b[0m\n\u001b[0;32m----> 1\u001b[0m history \u001b[38;5;241m=\u001b[39m model\u001b[38;5;241m.\u001b[39mfit(X_train_scaled, y_train, batch_size\u001b[38;5;241m=\u001b[39m\u001b[43mbatch_size\u001b[49m, epochs\u001b[38;5;241m=\u001b[39mepochs, validation_data\u001b[38;5;241m=\u001b[39m(X_val_scaled, y_val))\n",
      "\u001b[0;31mNameError\u001b[0m: name 'batch_size' is not defined"
     ]
    }
   ],
   "source": [
    "history = model.fit(X_train_scaled, y_train, batch_size=batch_size, epochs=epochs, validation_data=(X_val_scaled, y_val))\n"
   ]
  },
  {
   "cell_type": "markdown",
   "id": "02e50911-9ffb-48a4-a568-05b60ccfdc9d",
   "metadata": {},
   "source": [
    "# Q11. Compile the model with the specified loss function, optimizer, and metrics."
   ]
  },
  {
   "cell_type": "code",
   "execution_count": 10,
   "id": "8600fe17-fd41-4d40-bb62-d9de16396d93",
   "metadata": {},
   "outputs": [
    {
     "ename": "NameError",
     "evalue": "name 'batch_size' is not defined",
     "output_type": "error",
     "traceback": [
      "\u001b[0;31m---------------------------------------------------------------------------\u001b[0m",
      "\u001b[0;31mNameError\u001b[0m                                 Traceback (most recent call last)",
      "Cell \u001b[0;32mIn[10], line 1\u001b[0m\n\u001b[0;32m----> 1\u001b[0m history \u001b[38;5;241m=\u001b[39m model\u001b[38;5;241m.\u001b[39mfit(X_train_scaled, y_train, batch_size\u001b[38;5;241m=\u001b[39m\u001b[43mbatch_size\u001b[49m, epochs\u001b[38;5;241m=\u001b[39mepochs, validation_data\u001b[38;5;241m=\u001b[39m(X_val_scaled, y_val))\n",
      "\u001b[0;31mNameError\u001b[0m: name 'batch_size' is not defined"
     ]
    }
   ],
   "source": [
    "history = model.fit(X_train_scaled, y_train, batch_size=batch_size, epochs=epochs, validation_data=(X_val_scaled, y_val))\n"
   ]
  },
  {
   "cell_type": "markdown",
   "id": "e90ffa6f-44f5-4bd6-bcbf-9d0330a35502",
   "metadata": {},
   "source": [
    "# Q13. Obtain the model's parameters (weights and biases)."
   ]
  },
  {
   "cell_type": "code",
   "execution_count": 11,
   "id": "6c711889-590f-4f89-a044-365918f63215",
   "metadata": {},
   "outputs": [
    {
     "data": {
      "text/plain": [
       "[array([[ 3.28857124e-01,  3.35422724e-01,  4.29374963e-01,\n",
       "          5.41504502e-01,  7.23358989e-01, -6.72648177e-02,\n",
       "          6.70476496e-01,  2.37540707e-01, -7.22328007e-01,\n",
       "          7.99317062e-01,  7.27219403e-01, -7.45297313e-01,\n",
       "          6.32183254e-01, -6.89656675e-01, -5.57400823e-01,\n",
       "          3.38158876e-01,  6.63033009e-01, -5.46010077e-01,\n",
       "         -7.00534463e-01,  7.17548549e-01, -7.32792079e-01,\n",
       "         -7.60037065e-01,  6.96292281e-01,  3.19976747e-01,\n",
       "          3.65759619e-02, -6.20131254e-01, -4.87490714e-01,\n",
       "          7.08539486e-01,  4.95015532e-01,  3.08532417e-01,\n",
       "         -3.91768485e-01, -4.51762110e-01, -7.10274816e-01,\n",
       "          4.78868127e-01,  6.70834258e-02, -6.55772030e-01,\n",
       "         -7.24061012e-01, -7.24733055e-01, -8.20134282e-01,\n",
       "         -8.27108085e-01,  4.89283532e-01, -1.70734227e-02,\n",
       "          6.16912127e-01,  6.00486457e-01, -7.57203996e-01,\n",
       "          1.79029167e-01, -6.26376748e-01,  6.13619864e-01,\n",
       "          5.35794199e-01,  4.97238129e-01,  1.55095473e-01,\n",
       "          5.58166623e-01, -7.21021593e-01,  5.88602722e-01,\n",
       "         -4.12895858e-01,  7.23455906e-01,  5.73499620e-01,\n",
       "         -6.91788137e-01, -6.45597577e-01,  7.98468471e-01,\n",
       "          3.19594562e-01, -7.49720454e-01, -3.40675533e-01,\n",
       "         -5.00917971e-01],\n",
       "        [ 2.81418294e-01,  5.30162573e-01,  1.85551018e-01,\n",
       "         -5.69278002e-01, -8.17412019e-01, -8.31090748e-01,\n",
       "         -7.85641015e-01, -2.59373158e-01, -4.00564909e-01,\n",
       "         -6.49007559e-01, -6.41856849e-01,  5.64022362e-01,\n",
       "          1.87291697e-01,  3.12142521e-01,  4.94753629e-01,\n",
       "         -7.54452646e-01, -4.38230693e-01,  7.54976690e-01,\n",
       "          5.78996241e-01, -7.15924978e-01,  1.66850924e-01,\n",
       "          7.18907058e-01, -4.51005340e-01, -9.16644782e-02,\n",
       "         -5.14539063e-01, -4.41825271e-01,  2.09771469e-01,\n",
       "         -6.80893898e-01, -6.48939431e-01, -5.11520982e-01,\n",
       "         -4.76488501e-01,  3.14492047e-01,  6.67007267e-01,\n",
       "         -4.99964118e-01, -7.89715827e-01,  6.18411422e-01,\n",
       "          6.51082814e-01,  7.92711973e-01,  6.47581637e-01,\n",
       "          4.86471444e-01,  5.79791784e-01,  2.10934177e-01,\n",
       "         -8.22114646e-01, -6.21680208e-02,  9.00883898e-02,\n",
       "         -7.40498424e-01, -4.39992547e-01,  5.53081214e-01,\n",
       "         -3.66693199e-01, -7.21334577e-01, -6.73718095e-01,\n",
       "         -6.08482599e-01,  3.94010335e-01, -1.65952995e-01,\n",
       "          7.45445907e-01,  4.23501700e-01,  1.23121388e-01,\n",
       "         -1.13131866e-01,  1.94240600e-01, -1.22102931e-01,\n",
       "         -7.94952154e-01,  1.21620998e-01, -7.01660275e-01,\n",
       "          4.83647168e-01],\n",
       "        [-2.70234555e-01,  4.90431458e-01,  5.45900285e-01,\n",
       "          2.62024164e-01,  3.49250287e-01,  4.12720799e-01,\n",
       "          6.70880079e-01,  8.12488616e-01, -7.54389882e-01,\n",
       "          8.19494069e-01,  5.90032458e-01, -5.20171165e-01,\n",
       "          6.93365633e-01, -6.39474332e-01, -8.30367327e-01,\n",
       "          2.85696626e-01,  4.83817995e-01, -7.49281883e-01,\n",
       "         -8.37763786e-01,  8.02470088e-01, -5.26819468e-01,\n",
       "         -7.43441880e-01,  5.87401569e-01,  8.34852457e-01,\n",
       "          7.00622275e-02, -5.67615747e-01, -6.88355505e-01,\n",
       "          6.13441885e-01,  5.33882976e-01,  7.81268179e-01,\n",
       "         -2.41686404e-01, -4.43502396e-01, -8.38802516e-01,\n",
       "          5.00556767e-01,  3.57828438e-01, -4.46917683e-01,\n",
       "         -7.98325181e-01, -8.56270969e-01, -8.21639061e-01,\n",
       "         -5.50476372e-01,  1.82084247e-01,  2.69754052e-01,\n",
       "          5.97861528e-01,  1.53881133e-01, -8.16431284e-01,\n",
       "          6.76385880e-01, -3.46146107e-01,  3.74783009e-01,\n",
       "          5.19939661e-01,  5.83827317e-01,  6.05419755e-01,\n",
       "          3.85551482e-01, -3.53854865e-01,  3.25795323e-01,\n",
       "         -5.64822078e-01,  7.44019091e-01,  1.28268283e-02,\n",
       "         -3.20361048e-01, -5.86539924e-01,  6.95238113e-01,\n",
       "          7.76229799e-01, -8.32749546e-01,  5.88383019e-01,\n",
       "         -4.53906834e-01],\n",
       "        [ 3.46614182e-01,  6.78893447e-01,  4.52752322e-01,\n",
       "          1.65396817e-02,  1.63170567e-04,  1.54154375e-01,\n",
       "         -4.97107804e-01,  5.48812389e-01, -8.34326863e-01,\n",
       "          4.19564903e-01,  5.44038653e-01, -8.11306015e-02,\n",
       "          4.03184742e-01, -7.46043473e-02, -4.16763425e-01,\n",
       "          3.93128425e-01, -6.73013389e-01, -3.59860718e-01,\n",
       "         -5.84248722e-01,  2.32457742e-01, -1.06015451e-01,\n",
       "         -5.30350089e-01,  5.65488338e-01, -1.41592347e-03,\n",
       "          4.68508303e-01, -7.40358889e-01, -5.83375156e-01,\n",
       "          4.34712857e-01,  3.33846092e-01,  3.40537697e-01,\n",
       "         -7.55043030e-01,  3.75704795e-01,  5.05123958e-02,\n",
       "          5.71246862e-01, -6.10275147e-03,  4.25500095e-01,\n",
       "         -6.51715517e-01, -4.47149605e-01,  4.41833064e-02,\n",
       "         -1.46800697e-01,  3.14895123e-01, -1.79971278e-01,\n",
       "          3.17572951e-01,  4.40799534e-01, -4.90744829e-01,\n",
       "         -6.54134333e-01, -5.40272832e-01,  5.48644543e-01,\n",
       "          2.68319607e-01,  5.18910885e-01,  3.75376135e-01,\n",
       "          3.22942436e-01,  2.69799858e-01,  4.74959999e-01,\n",
       "          4.95448858e-02,  6.56050384e-01, -5.19907653e-01,\n",
       "         -6.63390934e-01,  2.33047277e-01,  5.77134788e-01,\n",
       "          2.87440389e-01, -7.68350124e-01, -8.20698142e-01,\n",
       "         -4.43697155e-01],\n",
       "        [ 3.40191752e-01,  6.43196106e-01, -2.30545089e-01,\n",
       "          2.99532622e-01, -2.89989144e-01, -7.63682127e-02,\n",
       "          2.08243370e-01,  1.01025432e-01, -8.70263159e-01,\n",
       "          2.53224701e-01,  4.16251451e-01, -8.29890966e-01,\n",
       "         -1.91381544e-01, -1.95567444e-01, -7.71247074e-02,\n",
       "         -6.30836636e-02, -7.08432913e-01, -2.91396320e-01,\n",
       "         -7.53851056e-01,  4.43694115e-01, -5.85798800e-01,\n",
       "         -4.48569924e-01,  4.34120566e-01,  5.17960966e-01,\n",
       "         -7.65614390e-01, -8.15379441e-01,  1.73065424e-01,\n",
       "         -3.75467807e-01,  2.08599746e-01,  3.04178089e-01,\n",
       "         -6.29109085e-01,  2.11098552e-01, -5.55558562e-01,\n",
       "         -7.53435194e-02, -7.63696134e-01, -5.94616532e-01,\n",
       "         -6.06798232e-01, -7.07359254e-01,  9.91580784e-02,\n",
       "         -8.63923430e-02, -2.58884311e-01,  4.55437720e-01,\n",
       "          4.08398360e-01, -3.90957981e-01, -2.09433839e-01,\n",
       "          2.75437295e-01, -1.13711454e-01,  4.88324523e-01,\n",
       "          1.66008651e-01, -7.15980679e-02, -5.61725140e-01,\n",
       "         -2.32358560e-01, -6.65853024e-01,  4.78627324e-01,\n",
       "          3.63154560e-01,  5.06177247e-01,  3.93733710e-01,\n",
       "         -7.70662904e-01, -7.06166446e-01,  5.27972996e-01,\n",
       "          2.49335572e-01, -3.85873109e-01, -1.97094530e-01,\n",
       "          1.09760024e-01],\n",
       "        [-7.70982355e-02,  2.53909498e-01, -6.03357732e-01,\n",
       "          3.13203156e-01, -7.11415529e-01, -1.51267827e-01,\n",
       "         -5.38606346e-02, -6.41177952e-01,  4.39658254e-01,\n",
       "          9.20274705e-02, -7.03205347e-01, -2.39373147e-01,\n",
       "         -4.99631800e-02,  1.69630140e-01, -7.38190889e-01,\n",
       "          1.56337231e-01, -6.43375039e-01,  4.29909915e-01,\n",
       "          3.09077233e-01,  5.06964549e-02, -1.29166856e-01,\n",
       "          3.35123211e-01, -4.48242575e-01,  5.55139959e-01,\n",
       "          1.65864497e-01,  1.56855971e-01, -7.08585083e-01,\n",
       "          4.46408153e-01,  5.64256668e-01, -6.14851594e-01,\n",
       "         -7.77320936e-02, -7.76901543e-01,  1.85976997e-01,\n",
       "         -4.73677427e-01, -6.22935712e-01,  5.33541322e-01,\n",
       "         -2.07269460e-01, -3.15630704e-01,  3.60394686e-01,\n",
       "          1.95039496e-01, -5.66042423e-01,  5.37962019e-01,\n",
       "          5.17403126e-01, -1.06015988e-01, -6.50740385e-01,\n",
       "         -7.52237886e-02,  6.18133068e-01,  2.93303192e-01,\n",
       "         -5.94984710e-01,  4.36367989e-01, -1.47752203e-02,\n",
       "         -1.89990923e-01,  6.05255783e-01, -2.82599598e-01,\n",
       "          3.44536901e-01, -3.53403211e-01, -5.58081925e-01,\n",
       "         -8.15292299e-01, -5.80297291e-01,  5.17574072e-01,\n",
       "          1.90761447e-01, -5.74032128e-01, -7.83079565e-02,\n",
       "         -5.12796408e-03],\n",
       "        [ 6.31793857e-01,  4.39616263e-01,  2.50281692e-01,\n",
       "          2.09278867e-01, -6.69994473e-01, -6.16058052e-01,\n",
       "         -6.15657568e-01, -5.54215550e-01, -5.07572651e-01,\n",
       "         -2.72727281e-01, -7.08088577e-01, -4.45211649e-01,\n",
       "          4.19878751e-01, -6.91636562e-01, -6.92223251e-01,\n",
       "         -3.34454507e-01, -6.57769978e-01,  6.94689810e-01,\n",
       "         -3.89478236e-01,  4.23273414e-01, -5.99461019e-01,\n",
       "          6.02812946e-01, -5.29092439e-02,  6.71246231e-01,\n",
       "         -5.19921064e-01, -7.36960649e-01, -6.14854395e-01,\n",
       "          4.18057367e-02,  6.37399435e-01, -6.16273940e-01,\n",
       "         -5.22769868e-01, -4.85624850e-01,  4.31149751e-01,\n",
       "         -2.94684768e-01, -6.94975078e-01,  2.53344804e-01,\n",
       "          4.74756390e-01, -5.61803341e-01,  3.37105952e-02,\n",
       "         -1.84956133e-01, -4.82703656e-01,  5.52664161e-01,\n",
       "          7.23082274e-02,  2.94247508e-01, -7.55082905e-01,\n",
       "         -6.28881216e-01, -2.67466940e-02,  3.50440323e-01,\n",
       "         -6.49307191e-01,  2.29131162e-01, -4.01505113e-01,\n",
       "         -3.14051956e-01,  6.23614967e-01,  4.52521682e-01,\n",
       "          6.81980789e-01, -1.07448310e-01, -5.67013323e-01,\n",
       "         -7.31870472e-01, -7.72037268e-01,  5.34999073e-01,\n",
       "          5.36836684e-01, -4.73975033e-01,  2.21832655e-02,\n",
       "          7.00935349e-02],\n",
       "        [ 6.78221226e-01,  5.72099566e-01,  6.68146253e-01,\n",
       "         -4.01084155e-01,  3.76699060e-01, -1.47689149e-01,\n",
       "         -3.33765484e-02,  6.57116115e-01, -4.00049150e-01,\n",
       "          2.01784357e-01,  7.43266702e-01, -7.54519999e-01,\n",
       "          5.37823021e-01, -5.29310048e-01, -3.49872649e-01,\n",
       "         -4.60594296e-01, -1.14728361e-01, -5.04538178e-01,\n",
       "         -2.28088483e-01,  3.38409483e-01, -4.79890496e-01,\n",
       "         -1.54796138e-01,  6.63371980e-01,  7.66770065e-01,\n",
       "         -4.67006445e-01, -7.08368361e-01, -6.15285397e-01,\n",
       "          2.27955028e-01,  4.53622311e-01,  9.21463445e-02,\n",
       "         -4.24771219e-01, -1.81179494e-01, -4.47816133e-01,\n",
       "          3.20589930e-01, -1.06114812e-01,  2.07546145e-01,\n",
       "         -4.05914068e-01, -5.67405999e-01, -2.73612648e-01,\n",
       "         -6.37654841e-01,  3.13550442e-01,  6.98667943e-01,\n",
       "          6.11520231e-01,  2.90471911e-01, -6.22564256e-01,\n",
       "         -1.40159696e-01, -7.74250388e-01,  6.05111599e-01,\n",
       "          5.79501271e-01,  5.60803115e-01, -2.34048739e-01,\n",
       "         -1.55793071e-01, -8.04636255e-02,  7.78221965e-01,\n",
       "         -3.99065197e-01,  7.77283251e-01, -4.47491884e-01,\n",
       "         -6.59709334e-01, -4.06557471e-01,  8.20794404e-01,\n",
       "          4.53956455e-01, -6.62767947e-01, -7.55095840e-01,\n",
       "          4.03498828e-01],\n",
       "        [-3.26155126e-01, -4.78389353e-01, -5.84146321e-01,\n",
       "         -4.08984303e-01, -5.86284399e-01,  4.23602402e-01,\n",
       "         -5.80539823e-01, -7.40610123e-01,  5.84073484e-01,\n",
       "         -8.30737829e-01, -3.26191843e-01,  6.22372270e-01,\n",
       "         -6.73418224e-01,  2.25712955e-01,  4.02910173e-01,\n",
       "          5.02566338e-01, -2.11650938e-01,  1.99356243e-01,\n",
       "          3.98856103e-01, -7.42358744e-01,  7.57106185e-01,\n",
       "          6.80304587e-01, -7.49088585e-01, -7.27322936e-01,\n",
       "          3.39768976e-01,  2.62830079e-01,  7.82867491e-01,\n",
       "         -4.97376382e-01, -7.90767133e-01, -7.38314390e-01,\n",
       "          6.67869985e-01,  4.58987802e-01,  3.65710527e-01,\n",
       "         -7.94286728e-01,  4.42471951e-01, -2.89979614e-02,\n",
       "          6.59955680e-01,  4.58241642e-01,  4.17818099e-01,\n",
       "          8.04614604e-01,  2.25939944e-01, -5.04871249e-01,\n",
       "         -3.35760772e-01, -6.84405088e-01,  7.98320413e-01,\n",
       "         -2.39710391e-01,  4.51109052e-01, -3.52019548e-01,\n",
       "         -4.82970655e-01, -6.81524277e-01, -4.41126004e-02,\n",
       "          1.33995771e-01,  7.24006891e-01, -6.83828890e-01,\n",
       "          3.38966429e-01, -6.10130906e-01, -5.68010271e-01,\n",
       "          4.16217446e-01,  5.64762533e-01, -2.77027786e-01,\n",
       "         -6.39750540e-01,  2.58506060e-01,  4.62253034e-01,\n",
       "         -2.70379722e-01],\n",
       "        [ 1.42283933e-02, -5.61758220e-01,  3.22327763e-01,\n",
       "          1.93713933e-01, -4.63832989e-02,  3.75900567e-01,\n",
       "          6.85330033e-01,  6.35982037e-01, -6.69004202e-01,\n",
       "          5.93431890e-01,  4.88957316e-01, -5.89216411e-01,\n",
       "          2.03402340e-01, -7.50959992e-01, -3.22928816e-01,\n",
       "          1.46255717e-01, -3.16367775e-01, -8.37098181e-01,\n",
       "         -8.01008940e-01,  7.50850320e-01,  3.84660691e-01,\n",
       "         -7.19758272e-01,  6.99997663e-01,  5.61680019e-01,\n",
       "          5.33816636e-01,  6.11081123e-01,  2.67901327e-02,\n",
       "          7.91223407e-01,  4.13705707e-01,  4.23096232e-02,\n",
       "         -1.33992150e-01, -5.94383538e-01, -6.92982674e-01,\n",
       "         -1.57963172e-01,  1.02903008e-01, -4.22762215e-01,\n",
       "         -4.22230721e-01, -3.47109079e-01, -5.13626456e-01,\n",
       "         -4.61855978e-01, -5.93246400e-01, -4.36457276e-01,\n",
       "          7.57031202e-01, -4.77954656e-01, -3.30268860e-01,\n",
       "          3.37349415e-01,  6.26954019e-01, -5.73180020e-01,\n",
       "          4.09316808e-01,  7.56363928e-01,  6.04419827e-01,\n",
       "          3.63144815e-01, -4.73533124e-01,  4.98572201e-01,\n",
       "         -1.51174515e-01, -1.56651467e-01,  3.93926740e-01,\n",
       "         -5.70683479e-01, -2.17180818e-01, -4.18336362e-01,\n",
       "          4.38047200e-01, -7.41745949e-01, -4.47999269e-01,\n",
       "         -4.15525049e-01],\n",
       "        [ 5.80673397e-01,  7.46496141e-01,  3.61415982e-01,\n",
       "         -7.69336581e-01, -6.43207192e-01, -6.79572463e-01,\n",
       "         -6.25743091e-01, -7.96593070e-01, -4.33984578e-01,\n",
       "         -7.67293215e-01, -5.16228616e-01, -5.08321643e-01,\n",
       "          8.30865979e-01, -3.20905268e-01, -6.34784281e-01,\n",
       "         -6.91888273e-01, -7.40976512e-01,  6.64923072e-01,\n",
       "          5.80632627e-01, -6.87078774e-01, -6.07409000e-01,\n",
       "          6.13282263e-01, -2.62386531e-01,  1.48140118e-01,\n",
       "         -5.80494463e-01, -6.84776425e-01, -2.97401905e-01,\n",
       "         -7.18917370e-01, -6.82709038e-01, -7.23446488e-01,\n",
       "         -6.63956881e-01,  4.64421898e-01,  1.00643039e-01,\n",
       "          4.20790315e-01, -7.96832383e-01,  4.96822983e-01,\n",
       "          6.46448851e-01,  3.55078548e-01,  7.50815988e-01,\n",
       "          7.14132547e-01,  5.06058455e-01,  5.04263401e-01,\n",
       "         -1.25438824e-01,  6.97732270e-01,  8.54086727e-02,\n",
       "         -5.02762675e-01, -5.96057713e-01,  6.52480721e-01,\n",
       "         -6.77956462e-01, -7.05535293e-01, -5.20522952e-01,\n",
       "         -7.62218595e-01,  4.75503862e-01,  5.27388513e-01,\n",
       "          7.09673047e-01,  7.37168610e-01, -7.34785140e-01,\n",
       "         -4.13621098e-01, -4.44267452e-01,  5.91802180e-01,\n",
       "         -2.05413029e-01,  3.89811620e-02, -2.80982494e-01,\n",
       "          5.87226212e-01],\n",
       "        [-8.14090550e-01, -3.41204286e-01, -8.07484090e-01,\n",
       "          5.31791031e-01,  7.18714118e-01,  5.20582259e-01,\n",
       "          3.14562947e-01,  6.35781884e-01,  5.70797920e-01,\n",
       "          5.38409114e-01,  5.88406980e-01,  5.29650092e-01,\n",
       "         -7.59791374e-01,  5.51153243e-01,  2.48338655e-01,\n",
       "          6.87951088e-01,  5.16748905e-01, -2.18226135e-01,\n",
       "         -1.33578882e-01,  6.12258136e-01,  4.75367337e-01,\n",
       "         -4.89436656e-01,  4.79575157e-01, -4.74328727e-01,\n",
       "          8.42559874e-01,  7.79295146e-01,  3.66558015e-01,\n",
       "          3.83785009e-01,  5.32712519e-01,  7.05895543e-01,\n",
       "          7.06416786e-01, -7.98376441e-01, -4.33242887e-01,\n",
       "         -5.00829816e-01,  3.74194086e-01, -8.03521395e-01,\n",
       "         -6.09858990e-01, -4.56370473e-01, -6.76887512e-01,\n",
       "         -7.44238377e-01, -7.26446748e-01, -5.66412985e-01,\n",
       "          6.21351421e-01, -5.28865635e-01, -2.65110493e-01,\n",
       "          6.66926146e-01,  7.76464939e-01, -7.09657967e-01,\n",
       "          6.41983509e-01,  3.42721134e-01,  8.46779227e-01,\n",
       "          7.02214003e-01, -5.37458718e-01, -6.09141052e-01,\n",
       "         -5.54090500e-01, -7.79549658e-01,  6.31457031e-01,\n",
       "          4.09794301e-02,  7.96972394e-01, -7.63280213e-01,\n",
       "          5.07485211e-01, -1.25966236e-01,  4.23217267e-01,\n",
       "         -8.09634864e-01]], dtype=float32),\n",
       " array([0.6174039 , 0.6251494 , 0.61533076, 0.5227268 , 0.6026233 ,\n",
       "        0.58152044, 0.5282652 , 0.5809146 , 0.6264728 , 0.62288785,\n",
       "        0.6191085 , 0.6033327 , 0.60890245, 0.577613  , 0.5570859 ,\n",
       "        0.6050267 , 0.6256324 , 0.63305914, 0.62580377, 0.59108263,\n",
       "        0.56058645, 0.5978315 , 0.59117764, 0.612833  , 0.58733284,\n",
       "        0.6206996 , 0.60079277, 0.62658113, 0.582679  , 0.5869978 ,\n",
       "        0.60188425, 0.60632694, 0.598992  , 0.56331223, 0.59221315,\n",
       "        0.6269799 , 0.63464195, 0.61891484, 0.58223575, 0.6218699 ,\n",
       "        0.5398201 , 0.49242267, 0.63081706, 0.4724856 , 0.61179286,\n",
       "        0.5852308 , 0.6150555 , 0.5470907 , 0.4548483 , 0.5938144 ,\n",
       "        0.5961229 , 0.6163409 , 0.52439636, 0.55146277, 0.54689276,\n",
       "        0.6232511 , 0.6034418 , 0.62740767, 0.62118846, 0.61041564,\n",
       "        0.55969703, 0.5906795 , 0.5917503 , 0.60434663], dtype=float32),\n",
       " array([[ 0.69900197, -0.15096307,  0.6400193 , ...,  0.4406905 ,\n",
       "          0.05207586,  0.03527531],\n",
       "        [ 0.7086018 , -0.0116056 ,  0.351819  , ...,  0.3546465 ,\n",
       "         -0.26812407,  0.19775236],\n",
       "        [ 0.75467926, -0.0489759 ,  0.7281019 , ...,  0.6075534 ,\n",
       "          0.10838554, -0.09864405],\n",
       "        ...,\n",
       "        [ 0.48084673,  0.02734605,  0.6435316 , ...,  0.60013056,\n",
       "          0.1658643 ,  0.10864492],\n",
       "        [ 0.6127281 , -0.17455378,  0.51236326, ...,  0.49566844,\n",
       "          0.09551015, -0.05691982],\n",
       "        [ 0.7585876 ,  0.00662495,  0.6793019 , ...,  0.38183758,\n",
       "          0.02785171,  0.16574554]], dtype=float32),\n",
       " array([ 0.55977654, -0.03797058,  0.55823183, -0.03537393, -0.03222656,\n",
       "        -0.01758699,  0.46660507,  0.44214773, -0.03520431, -0.03493307,\n",
       "         0.52323395,  0.4728435 ,  0.4550682 , -0.03749976,  0.4409951 ,\n",
       "         0.46821222,  0.55588883, -0.04383468,  0.48493165,  0.4293591 ,\n",
       "         0.5328256 ,  0.56337124, -0.0484772 , -0.03822939,  0.44718966,\n",
       "         0.45432976,  0.45309463, -0.02925412, -0.04795264,  0.54376835,\n",
       "        -0.03261946, -0.02854312], dtype=float32),\n",
       " array([[ 0.63310164],\n",
       "        [-0.07444207],\n",
       "        [ 0.6961726 ],\n",
       "        [-0.35310146],\n",
       "        [ 0.00118664],\n",
       "        [-0.33925384],\n",
       "        [ 0.9318268 ],\n",
       "        [ 0.91356736],\n",
       "        [ 0.00357637],\n",
       "        [-0.03609546],\n",
       "        [ 0.6886419 ],\n",
       "        [ 0.8564743 ],\n",
       "        [ 0.93879443],\n",
       "        [-0.33308256],\n",
       "        [ 1.0626606 ],\n",
       "        [ 0.8572865 ],\n",
       "        [ 0.65544575],\n",
       "        [-0.02903751],\n",
       "        [ 0.78076035],\n",
       "        [ 1.0103713 ],\n",
       "        [ 0.6647778 ],\n",
       "        [ 0.6398496 ],\n",
       "        [-0.17437965],\n",
       "        [-0.01168552],\n",
       "        [ 0.9921246 ],\n",
       "        [ 0.91810375],\n",
       "        [ 0.5031667 ],\n",
       "        [-0.34532532],\n",
       "        [-0.32670155],\n",
       "        [ 0.73637   ],\n",
       "        [-0.36667228],\n",
       "        [-0.25427467]], dtype=float32),\n",
       " array([0.34756008], dtype=float32)]"
      ]
     },
     "execution_count": 11,
     "metadata": {},
     "output_type": "execute_result"
    }
   ],
   "source": [
    "model.get_weights()\n"
   ]
  },
  {
   "cell_type": "markdown",
   "id": "20e46cd2-ff69-4660-8a3f-4a06cca349ea",
   "metadata": {},
   "source": [
    "# Q14. Store the model's training history as a Pandas DataFrame."
   ]
  },
  {
   "cell_type": "code",
   "execution_count": 12,
   "id": "002f76a7-797d-40e2-ba5b-e8d29d05a494",
   "metadata": {},
   "outputs": [
    {
     "ename": "NameError",
     "evalue": "name 'history' is not defined",
     "output_type": "error",
     "traceback": [
      "\u001b[0;31m---------------------------------------------------------------------------\u001b[0m",
      "\u001b[0;31mNameError\u001b[0m                                 Traceback (most recent call last)",
      "Cell \u001b[0;32mIn[12], line 1\u001b[0m\n\u001b[0;32m----> 1\u001b[0m history_df \u001b[38;5;241m=\u001b[39m pd\u001b[38;5;241m.\u001b[39mDataFrame(\u001b[43mhistory\u001b[49m\u001b[38;5;241m.\u001b[39mhistory)\n",
      "\u001b[0;31mNameError\u001b[0m: name 'history' is not defined"
     ]
    }
   ],
   "source": [
    "history_df = pd.DataFrame(history.history)\n"
   ]
  },
  {
   "cell_type": "markdown",
   "id": "29d30102-99a5-46b5-9142-da7bc2ee45c1",
   "metadata": {},
   "source": [
    "# Q15. Plot the training history (e.g., accuracy and loss) using suitable visualization techniques."
   ]
  },
  {
   "cell_type": "code",
   "execution_count": 13,
   "id": "eaa5dca8-81fd-453d-b6da-62f0d8b9e770",
   "metadata": {},
   "outputs": [
    {
     "ename": "NameError",
     "evalue": "name 'history_df' is not defined",
     "output_type": "error",
     "traceback": [
      "\u001b[0;31m---------------------------------------------------------------------------\u001b[0m",
      "\u001b[0;31mNameError\u001b[0m                                 Traceback (most recent call last)",
      "Cell \u001b[0;32mIn[13], line 4\u001b[0m\n\u001b[1;32m      1\u001b[0m \u001b[38;5;28;01mimport\u001b[39;00m \u001b[38;5;21;01mmatplotlib\u001b[39;00m\u001b[38;5;21;01m.\u001b[39;00m\u001b[38;5;21;01mpyplot\u001b[39;00m \u001b[38;5;28;01mas\u001b[39;00m \u001b[38;5;21;01mplt\u001b[39;00m\n\u001b[1;32m      3\u001b[0m \u001b[38;5;66;03m# Plot training history (e.g., accuracy and loss)\u001b[39;00m\n\u001b[0;32m----> 4\u001b[0m plt\u001b[38;5;241m.\u001b[39mplot(\u001b[43mhistory_df\u001b[49m[\u001b[38;5;124m'\u001b[39m\u001b[38;5;124maccuracy\u001b[39m\u001b[38;5;124m'\u001b[39m], label\u001b[38;5;241m=\u001b[39m\u001b[38;5;124m'\u001b[39m\u001b[38;5;124maccuracy\u001b[39m\u001b[38;5;124m'\u001b[39m)\n\u001b[1;32m      5\u001b[0m plt\u001b[38;5;241m.\u001b[39mplot(history_df[\u001b[38;5;124m'\u001b[39m\u001b[38;5;124mval_accuracy\u001b[39m\u001b[38;5;124m'\u001b[39m], label\u001b[38;5;241m=\u001b[39m\u001b[38;5;124m'\u001b[39m\u001b[38;5;124mval_accuracy\u001b[39m\u001b[38;5;124m'\u001b[39m)\n\u001b[1;32m      6\u001b[0m plt\u001b[38;5;241m.\u001b[39mplot(history_df[\u001b[38;5;124m'\u001b[39m\u001b[38;5;124mloss\u001b[39m\u001b[38;5;124m'\u001b[39m], label\u001b[38;5;241m=\u001b[39m\u001b[38;5;124m'\u001b[39m\u001b[38;5;124mloss\u001b[39m\u001b[38;5;124m'\u001b[39m)\n",
      "\u001b[0;31mNameError\u001b[0m: name 'history_df' is not defined"
     ]
    }
   ],
   "source": [
    "import matplotlib.pyplot as plt\n",
    "\n",
    "# Plot training history (e.g., accuracy and loss)\n",
    "plt.plot(history_df['accuracy'], label='accuracy')\n",
    "plt.plot(history_df['val_accuracy'], label='val_accuracy')\n",
    "plt.plot(history_df['loss'], label='loss')\n",
    "plt.plot(history_df['val_loss'], label='val_loss')\n",
    "plt.xlabel('Epochs')\n",
    "plt.legend()\n",
    "plt.show()\n"
   ]
  },
  {
   "cell_type": "markdown",
   "id": "574a9e14-a0d5-45d4-9939-f93ccef73dab",
   "metadata": {},
   "source": [
    "# Q16. Evaluate the model's performance using the test dataset and report relevant metrics."
   ]
  },
  {
   "cell_type": "code",
   "execution_count": 14,
   "id": "851d3136-7354-4bf2-8d79-487ea93e97be",
   "metadata": {},
   "outputs": [
    {
     "name": "stdout",
     "output_type": "stream",
     "text": [
      "8/8 [==============================] - 0s 2ms/step - loss: -7693.7964 - accuracy: 0.0000e+00\n",
      "Test loss: -7693.79638671875\n",
      "Test accuracy: 0.0\n"
     ]
    }
   ],
   "source": [
    "test_loss, test_accuracy = model.evaluate(X_test_scaled, y_test)\n",
    "print(\"Test loss:\", test_loss)\n",
    "print(\"Test accuracy:\", test_accuracy)\n"
   ]
  },
  {
   "cell_type": "code",
   "execution_count": null,
   "id": "544452c9-0389-43d2-a956-053a5cf7006b",
   "metadata": {},
   "outputs": [],
   "source": []
  }
 ],
 "metadata": {
  "kernelspec": {
   "display_name": "Python 3 (ipykernel)",
   "language": "python",
   "name": "python3"
  },
  "language_info": {
   "codemirror_mode": {
    "name": "ipython",
    "version": 3
   },
   "file_extension": ".py",
   "mimetype": "text/x-python",
   "name": "python",
   "nbconvert_exporter": "python",
   "pygments_lexer": "ipython3",
   "version": "3.10.8"
  }
 },
 "nbformat": 4,
 "nbformat_minor": 5
}
